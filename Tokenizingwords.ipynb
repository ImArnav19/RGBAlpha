{
 "cells": [
  {
   "cell_type": "code",
   "execution_count": 1,
   "metadata": {},
   "outputs": [
    {
     "name": "stdout",
     "output_type": "stream",
     "text": [
      "Hello World\n"
     ]
    }
   ],
   "source": [
    "print(\"Hello World\")"
   ]
  },
  {
   "cell_type": "code",
   "execution_count": 3,
   "metadata": {},
   "outputs": [],
   "source": [
    "import nltk\n",
    "import pandas as pd\n",
    "import numpy as np"
   ]
  },
  {
   "cell_type": "code",
   "execution_count": 5,
   "metadata": {},
   "outputs": [
    {
     "ename": "UnicodeDecodeError",
     "evalue": "'utf-8' codec can't decode byte 0xba in position 110: invalid start byte",
     "output_type": "error",
     "traceback": [
      "\u001b[1;31m---------------------------------------------------------------------------\u001b[0m",
      "\u001b[1;31mUnicodeDecodeError\u001b[0m                        Traceback (most recent call last)",
      "\u001b[1;32me:\\DRIVE D\\SOHAM ENG COLL\\ENGINEERING NOTES\\SEM 5\\HACKATHONS\\Tokenizingwords.ipynb Cell 3\u001b[0m line \u001b[0;36m1\n\u001b[1;32m----> <a href='vscode-notebook-cell:/e%3A/DRIVE%20D/SOHAM%20ENG%20COLL/ENGINEERING%20NOTES/SEM%205/HACKATHONS/Tokenizingwords.ipynb#W1sZmlsZQ%3D%3D?line=0'>1</a>\u001b[0m dataset\u001b[39m=\u001b[39mpd\u001b[39m.\u001b[39;49mread_csv(\u001b[39m\"\u001b[39;49m\u001b[39mE:\u001b[39;49m\u001b[39m\\\u001b[39;49m\u001b[39mDRIVE D\u001b[39;49m\u001b[39m\\\u001b[39;49m\u001b[39mSOHAM ENG COLL\u001b[39;49m\u001b[39m\\\u001b[39;49m\u001b[39mENGINEERING NOTES\u001b[39;49m\u001b[39m\\\u001b[39;49m\u001b[39mSEM 5\u001b[39;49m\u001b[39m\\\u001b[39;49m\u001b[39mML\u001b[39;49m\u001b[39m\\\u001b[39;49m\u001b[39mSMSSpamCollection (9) (2).tsv.txt\u001b[39;49m\u001b[39m\"\u001b[39;49m, sep\u001b[39m=\u001b[39;49m\u001b[39m\"\u001b[39;49m\u001b[39m\\t\u001b[39;49;00m\u001b[39m\"\u001b[39;49m, header\u001b[39m=\u001b[39;49m\u001b[39mNone\u001b[39;49;00m)\n\u001b[0;32m      <a href='vscode-notebook-cell:/e%3A/DRIVE%20D/SOHAM%20ENG%20COLL/ENGINEERING%20NOTES/SEM%205/HACKATHONS/Tokenizingwords.ipynb#W1sZmlsZQ%3D%3D?line=1'>2</a>\u001b[0m dataset\u001b[39m.\u001b[39mcolumns\u001b[39m=\u001b[39m[\u001b[39m'\u001b[39m\u001b[39mlabel\u001b[39m\u001b[39m'\u001b[39m, \u001b[39m'\u001b[39m\u001b[39mbody_text\u001b[39m\u001b[39m'\u001b[39m]\n\u001b[0;32m      <a href='vscode-notebook-cell:/e%3A/DRIVE%20D/SOHAM%20ENG%20COLL/ENGINEERING%20NOTES/SEM%205/HACKATHONS/Tokenizingwords.ipynb#W1sZmlsZQ%3D%3D?line=2'>3</a>\u001b[0m dataset\u001b[39m.\u001b[39mhead()\n",
      "File \u001b[1;32mc:\\Users\\anu05\\AppData\\Local\\Programs\\Python\\Python311\\Lib\\site-packages\\pandas\\io\\parsers\\readers.py:912\u001b[0m, in \u001b[0;36mread_csv\u001b[1;34m(filepath_or_buffer, sep, delimiter, header, names, index_col, usecols, dtype, engine, converters, true_values, false_values, skipinitialspace, skiprows, skipfooter, nrows, na_values, keep_default_na, na_filter, verbose, skip_blank_lines, parse_dates, infer_datetime_format, keep_date_col, date_parser, date_format, dayfirst, cache_dates, iterator, chunksize, compression, thousands, decimal, lineterminator, quotechar, quoting, doublequote, escapechar, comment, encoding, encoding_errors, dialect, on_bad_lines, delim_whitespace, low_memory, memory_map, float_precision, storage_options, dtype_backend)\u001b[0m\n\u001b[0;32m    899\u001b[0m kwds_defaults \u001b[39m=\u001b[39m _refine_defaults_read(\n\u001b[0;32m    900\u001b[0m     dialect,\n\u001b[0;32m    901\u001b[0m     delimiter,\n\u001b[1;32m   (...)\u001b[0m\n\u001b[0;32m    908\u001b[0m     dtype_backend\u001b[39m=\u001b[39mdtype_backend,\n\u001b[0;32m    909\u001b[0m )\n\u001b[0;32m    910\u001b[0m kwds\u001b[39m.\u001b[39mupdate(kwds_defaults)\n\u001b[1;32m--> 912\u001b[0m \u001b[39mreturn\u001b[39;00m _read(filepath_or_buffer, kwds)\n",
      "File \u001b[1;32mc:\\Users\\anu05\\AppData\\Local\\Programs\\Python\\Python311\\Lib\\site-packages\\pandas\\io\\parsers\\readers.py:577\u001b[0m, in \u001b[0;36m_read\u001b[1;34m(filepath_or_buffer, kwds)\u001b[0m\n\u001b[0;32m    574\u001b[0m _validate_names(kwds\u001b[39m.\u001b[39mget(\u001b[39m\"\u001b[39m\u001b[39mnames\u001b[39m\u001b[39m\"\u001b[39m, \u001b[39mNone\u001b[39;00m))\n\u001b[0;32m    576\u001b[0m \u001b[39m# Create the parser.\u001b[39;00m\n\u001b[1;32m--> 577\u001b[0m parser \u001b[39m=\u001b[39m TextFileReader(filepath_or_buffer, \u001b[39m*\u001b[39;49m\u001b[39m*\u001b[39;49mkwds)\n\u001b[0;32m    579\u001b[0m \u001b[39mif\u001b[39;00m chunksize \u001b[39mor\u001b[39;00m iterator:\n\u001b[0;32m    580\u001b[0m     \u001b[39mreturn\u001b[39;00m parser\n",
      "File \u001b[1;32mc:\\Users\\anu05\\AppData\\Local\\Programs\\Python\\Python311\\Lib\\site-packages\\pandas\\io\\parsers\\readers.py:1407\u001b[0m, in \u001b[0;36mTextFileReader.__init__\u001b[1;34m(self, f, engine, **kwds)\u001b[0m\n\u001b[0;32m   1404\u001b[0m     \u001b[39mself\u001b[39m\u001b[39m.\u001b[39moptions[\u001b[39m\"\u001b[39m\u001b[39mhas_index_names\u001b[39m\u001b[39m\"\u001b[39m] \u001b[39m=\u001b[39m kwds[\u001b[39m\"\u001b[39m\u001b[39mhas_index_names\u001b[39m\u001b[39m\"\u001b[39m]\n\u001b[0;32m   1406\u001b[0m \u001b[39mself\u001b[39m\u001b[39m.\u001b[39mhandles: IOHandles \u001b[39m|\u001b[39m \u001b[39mNone\u001b[39;00m \u001b[39m=\u001b[39m \u001b[39mNone\u001b[39;00m\n\u001b[1;32m-> 1407\u001b[0m \u001b[39mself\u001b[39m\u001b[39m.\u001b[39m_engine \u001b[39m=\u001b[39m \u001b[39mself\u001b[39;49m\u001b[39m.\u001b[39;49m_make_engine(f, \u001b[39mself\u001b[39;49m\u001b[39m.\u001b[39;49mengine)\n",
      "File \u001b[1;32mc:\\Users\\anu05\\AppData\\Local\\Programs\\Python\\Python311\\Lib\\site-packages\\pandas\\io\\parsers\\readers.py:1679\u001b[0m, in \u001b[0;36mTextFileReader._make_engine\u001b[1;34m(self, f, engine)\u001b[0m\n\u001b[0;32m   1676\u001b[0m     \u001b[39mraise\u001b[39;00m \u001b[39mValueError\u001b[39;00m(msg)\n\u001b[0;32m   1678\u001b[0m \u001b[39mtry\u001b[39;00m:\n\u001b[1;32m-> 1679\u001b[0m     \u001b[39mreturn\u001b[39;00m mapping[engine](f, \u001b[39m*\u001b[39;49m\u001b[39m*\u001b[39;49m\u001b[39mself\u001b[39;49m\u001b[39m.\u001b[39;49moptions)\n\u001b[0;32m   1680\u001b[0m \u001b[39mexcept\u001b[39;00m \u001b[39mException\u001b[39;00m:\n\u001b[0;32m   1681\u001b[0m     \u001b[39mif\u001b[39;00m \u001b[39mself\u001b[39m\u001b[39m.\u001b[39mhandles \u001b[39mis\u001b[39;00m \u001b[39mnot\u001b[39;00m \u001b[39mNone\u001b[39;00m:\n",
      "File \u001b[1;32mc:\\Users\\anu05\\AppData\\Local\\Programs\\Python\\Python311\\Lib\\site-packages\\pandas\\io\\parsers\\c_parser_wrapper.py:93\u001b[0m, in \u001b[0;36mCParserWrapper.__init__\u001b[1;34m(self, src, **kwds)\u001b[0m\n\u001b[0;32m     90\u001b[0m \u001b[39mif\u001b[39;00m kwds[\u001b[39m\"\u001b[39m\u001b[39mdtype_backend\u001b[39m\u001b[39m\"\u001b[39m] \u001b[39m==\u001b[39m \u001b[39m\"\u001b[39m\u001b[39mpyarrow\u001b[39m\u001b[39m\"\u001b[39m:\n\u001b[0;32m     91\u001b[0m     \u001b[39m# Fail here loudly instead of in cython after reading\u001b[39;00m\n\u001b[0;32m     92\u001b[0m     import_optional_dependency(\u001b[39m\"\u001b[39m\u001b[39mpyarrow\u001b[39m\u001b[39m\"\u001b[39m)\n\u001b[1;32m---> 93\u001b[0m \u001b[39mself\u001b[39m\u001b[39m.\u001b[39m_reader \u001b[39m=\u001b[39m parsers\u001b[39m.\u001b[39;49mTextReader(src, \u001b[39m*\u001b[39;49m\u001b[39m*\u001b[39;49mkwds)\n\u001b[0;32m     95\u001b[0m \u001b[39mself\u001b[39m\u001b[39m.\u001b[39munnamed_cols \u001b[39m=\u001b[39m \u001b[39mself\u001b[39m\u001b[39m.\u001b[39m_reader\u001b[39m.\u001b[39munnamed_cols\n\u001b[0;32m     97\u001b[0m \u001b[39m# error: Cannot determine type of 'names'\u001b[39;00m\n",
      "File \u001b[1;32mc:\\Users\\anu05\\AppData\\Local\\Programs\\Python\\Python311\\Lib\\site-packages\\pandas\\_libs\\parsers.pyx:550\u001b[0m, in \u001b[0;36mpandas._libs.parsers.TextReader.__cinit__\u001b[1;34m()\u001b[0m\n",
      "File \u001b[1;32mc:\\Users\\anu05\\AppData\\Local\\Programs\\Python\\Python311\\Lib\\site-packages\\pandas\\_libs\\parsers.pyx:758\u001b[0m, in \u001b[0;36mpandas._libs.parsers.TextReader._get_header\u001b[1;34m()\u001b[0m\n",
      "File \u001b[1;32mc:\\Users\\anu05\\AppData\\Local\\Programs\\Python\\Python311\\Lib\\site-packages\\pandas\\_libs\\parsers.pyx:850\u001b[0m, in \u001b[0;36mpandas._libs.parsers.TextReader._tokenize_rows\u001b[1;34m()\u001b[0m\n",
      "File \u001b[1;32mc:\\Users\\anu05\\AppData\\Local\\Programs\\Python\\Python311\\Lib\\site-packages\\pandas\\_libs\\parsers.pyx:861\u001b[0m, in \u001b[0;36mpandas._libs.parsers.TextReader._check_tokenize_status\u001b[1;34m()\u001b[0m\n",
      "File \u001b[1;32mc:\\Users\\anu05\\AppData\\Local\\Programs\\Python\\Python311\\Lib\\site-packages\\pandas\\_libs\\parsers.pyx:2021\u001b[0m, in \u001b[0;36mpandas._libs.parsers.raise_parser_error\u001b[1;34m()\u001b[0m\n",
      "\u001b[1;31mUnicodeDecodeError\u001b[0m: 'utf-8' codec can't decode byte 0xba in position 110: invalid start byte"
     ]
    }
   ],
   "source": [
    "dataset=pd.read_csv(\"E:\\DRIVE D\\SOHAM ENG COLL\\ENGINEERING NOTES\\SEM 5\\ML\\SMSSpamCollection (9) (2).tsv.txt\", sep=\"\\t\", header=None)\n",
    "dataset.columns=['label', 'body_text']\n",
    "dataset.head()"
   ]
  },
  {
   "cell_type": "code",
   "execution_count": 6,
   "metadata": {},
   "outputs": [
    {
     "name": "stdout",
     "output_type": "stream",
     "text": [
      "Estimated difficulty parameters: [-0.6931466  -0.69314647 -0.69314663  0.69314626]\n"
     ]
    }
   ],
   "source": [
    "import numpy as np\n",
    "from scipy.optimize import minimize\n",
    "\n",
    "# Simulated data: Each row represents a person's responses (0 or 1) to items\n",
    "responses = np.array([[1, 0, 1, 1],\n",
    "                      [0, 1, 1, 0],\n",
    "                      [1, 1, 0, 0]])\n",
    "\n",
    "# Initial parameter values (difficulty parameters for each item)\n",
    "initial_params = np.zeros(responses.shape[1])\n",
    "\n",
    "# Rasch model function (1PL model)\n",
    "def rasch_model(params, *args):\n",
    "    ability = args[0]\n",
    "    responses = args[1]\n",
    "    theta = ability\n",
    "    b = params  # difficulty parameters\n",
    "    logits = theta - b\n",
    "    probabilities = 1 / (1 + np.exp(-logits))\n",
    "    log_likelihood = np.sum(responses * np.log(probabilities) + (1 - responses) * np.log(1 - probabilities))\n",
    "    return -log_likelihood\n",
    "\n",
    "# Estimate parameters using Maximum Likelihood Estimation\n",
    "estimated_params = minimize(rasch_model, initial_params, args=(0, responses), method='L-BFGS-B')\n",
    "\n",
    "# Extract estimated difficulty parameters\n",
    "difficulty_params = estimated_params.x\n",
    "\n",
    "print(\"Estimated difficulty parameters:\", difficulty_params)\n"
   ]
  },
  {
   "cell_type": "code",
   "execution_count": 7,
   "metadata": {},
   "outputs": [
    {
     "name": "stdout",
     "output_type": "stream",
     "text": [
      "Updated Knowledge Probabilities (P_L) for each skill: [0.04142012 0.31210191 0.04142012 0.04142012]\n"
     ]
    }
   ],
   "source": [
    "class BKTModel:\n",
    "    def __init__(self, num_skills):\n",
    "        self.num_skills = num_skills\n",
    "        self.P_L = np.full(num_skills, 0.1)  # Initial probability of knowing the skill\n",
    "        self.P_T = np.full(num_skills, 0.3)  # Probability of transitioning from not knowing to knowing\n",
    "        self.P_G = np.full(num_skills, 0.2)  # Probability of guessing correctly when not knowing\n",
    "        self.P_S = np.full(num_skills, 0.1)  # Probability of slipping up when knowing\n",
    "\n",
    "    def update(self, responses):\n",
    "        for i, response in enumerate(responses):\n",
    "            P_L_new = (self.P_L[i] * (1 - self.P_T[i])) / ((self.P_L[i] * (1 - self.P_T[i])) + ((1 - self.P_L[i]) * self.P_G[i]))\n",
    "            P_L_new_knowing = (self.P_L[i] * self.P_T[i]) / ((self.P_L[i] * self.P_T[i]) + ((1 - self.P_L[i]) * (1 - self.P_S[i])))\n",
    "            if response == 1:  # The learner answered correctly\n",
    "                self.P_L[i] = P_L_new_knowing\n",
    "            else:\n",
    "                self.P_L[i] = P_L_new\n",
    "\n",
    "# Example usage:\n",
    "responses = [[1, 0, 1, 0],\n",
    "             [0, 1, 1, 1],\n",
    "             [1, 0, 0, 1]]\n",
    "\n",
    "bkt_model = BKTModel(num_skills=len(responses[0]))\n",
    "for response_set in responses:\n",
    "    bkt_model.update(response_set)\n",
    "\n",
    "print(\"Updated Knowledge Probabilities (P_L) for each skill:\", bkt_model.P_L)\n"
   ]
  },
  {
   "cell_type": "code",
   "execution_count": 8,
   "metadata": {},
   "outputs": [
    {
     "name": "stdout",
     "output_type": "stream",
     "text": [
      "Estimated Theta (Student's Ability): 0.16791001732619873\n",
      "Estimated Parameters (theta, discrimination, difficulty): [ 0.16791002  1.00193552 -0.16791005]\n"
     ]
    }
   ],
   "source": [
    "import numpy as np\n",
    "from scipy.optimize import minimize\n",
    "\n",
    "class IRTModel:\n",
    "    def __init__(self, num_items):\n",
    "        self.num_items = num_items\n",
    "\n",
    "    def likelihood(self, params, responses):\n",
    "        theta, discrimination, difficulty = params\n",
    "        logits = discrimination * (theta - difficulty)\n",
    "        probabilities = 1 / (1 + np.exp(-logits))\n",
    "        likelihoods = responses * np.log(probabilities) + (1 - responses) * np.log(1 - probabilities)\n",
    "        return -np.sum(likelihoods)\n",
    "\n",
    "    def fit(self, responses):\n",
    "        initial_params = [0, 1, 0]  # Initial values for theta, discrimination, and difficulty\n",
    "        bounds = [(-4, 4), (0.01, 5), (-3, 3)]  # Bounds for optimization parameters\n",
    "        result = minimize(self.likelihood, initial_params, args=(responses,), bounds=bounds)\n",
    "        return result.x\n",
    "\n",
    "# Example usage:\n",
    "responses = np.array([[1, 0, 1, 0],\n",
    "                      [0, 1, 1, 1],\n",
    "                      [1, 0, 0, 1]])\n",
    "\n",
    "irt_model = IRTModel(num_items=responses.shape[1])\n",
    "params = irt_model.fit(responses)\n",
    "estimated_theta = params[0]\n",
    "\n",
    "print(\"Estimated Theta (Student's Ability):\", estimated_theta)\n",
    "print(\"Estimated Parameters (theta, discrimination, difficulty):\", params)\n"
   ]
  },
  {
   "cell_type": "code",
   "execution_count": null,
   "metadata": {},
   "outputs": [],
   "source": []
  }
 ],
 "metadata": {
  "kernelspec": {
   "display_name": "Python 3",
   "language": "python",
   "name": "python3"
  },
  "language_info": {
   "codemirror_mode": {
    "name": "ipython",
    "version": 3
   },
   "file_extension": ".py",
   "mimetype": "text/x-python",
   "name": "python",
   "nbconvert_exporter": "python",
   "pygments_lexer": "ipython3",
   "version": "3.11.4"
  }
 },
 "nbformat": 4,
 "nbformat_minor": 2
}
